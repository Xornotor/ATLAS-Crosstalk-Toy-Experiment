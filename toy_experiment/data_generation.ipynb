{
 "cells": [
  {
   "cell_type": "code",
   "execution_count": 37,
   "metadata": {},
   "outputs": [],
   "source": [
    "import sys\n",
    "sys.path.insert(1, \"../crosstalk/\")\n",
    "\n",
    "import numpy as np\n",
    "import glob\n",
    "from matplotlib import pyplot as plt\n",
    "\n",
    "from functions import *\n",
    "from XTconstants import *\n"
   ]
  },
  {
   "cell_type": "code",
   "execution_count": 38,
   "metadata": {},
   "outputs": [],
   "source": [
    "source   = '../crosstalk'                                              \n",
    "emsData  = f'{source}/clusters'\n",
    "\n",
    "fileEtrue  = glob.glob(f'{emsData}/*Etrue*.pkl')[0]\n",
    "fileXTc    = glob.glob(f'{emsData}/*XTc*.pkl')[0]\n",
    "fileXTl    = glob.glob(f'{emsData}/*XTl*.pkl')[0]\n",
    "\n",
    "EtrueAmp   = loadSaveDict( fileEtrue, load=True )\n",
    "XTcAmp     = loadSaveDict( fileXTc, load=True )\n",
    "XTlAmp     = loadSaveDict( fileXTl, load=True )"
   ]
  },
  {
   "cell_type": "code",
   "execution_count": null,
   "metadata": {},
   "outputs": [],
   "source": [
    "vectDelays = getIdxClus_mxn(cellsDelay, 7, 5)\n",
    "nSamp = 4\n",
    "tau_0 = 0   ## arbitray sampling delay used to validate analysis.\n",
    "\n",
    "Etrue_samp = genCellSamples(vectDelays, tau_0, nSamp)*(np.repeat(EtrueAmp, nSamp, axis=1))\n",
    "XTc_samp   = genXTcSamples(vectDelays, tau_0, nSamp)*(np.repeat(XTcAmp, nSamp, axis=1))\n",
    "XTl_samp   = genXTlSamples(vectDelays, tau_0, nSamp)*(np.repeat(XTlAmp, nSamp, axis=1))"
   ]
  },
  {
   "cell_type": "code",
   "execution_count": 61,
   "metadata": {},
   "outputs": [
    {
     "data": {
      "text/plain": [
       "(100, 4)"
      ]
     },
     "execution_count": 61,
     "metadata": {},
     "output_type": "execute_result"
    }
   ],
   "source": [
    "E_XTcl = Etrue_samp + XTc_samp + XTl_samp\n",
    "E_XTcl = E_XTcl.reshape(120000, 25, -1)\n",
    "E_XTcl_center = E_XTcl[:100, 12, :]\n",
    "E_XTcl_center.shape"
   ]
  }
 ],
 "metadata": {
  "kernelspec": {
   "display_name": "base",
   "language": "python",
   "name": "python3"
  },
  "language_info": {
   "codemirror_mode": {
    "name": "ipython",
    "version": 3
   },
   "file_extension": ".py",
   "mimetype": "text/x-python",
   "name": "python",
   "nbconvert_exporter": "python",
   "pygments_lexer": "ipython3",
   "version": "3.12.2"
  }
 },
 "nbformat": 4,
 "nbformat_minor": 2
}
