{
 "cells": [
  {
   "cell_type": "markdown",
   "metadata": {},
   "source": [
    "# **Otimização - Toy Experiment: Mitigação de Crosstalk**\n",
    "## **Notebook de Geração de Dados**\n",
    "\n",
    "**Disciplina:** PPGEE0016 - Otimização\n",
    "\n",
    "**Alunos:** André Paiva, Josias Souza, Victor Emanuel Paz"
   ]
  },
  {
   "cell_type": "code",
   "execution_count": 111,
   "metadata": {},
   "outputs": [],
   "source": [
    "import sys\n",
    "sys.path.insert(1, \"../crosstalk/\")\n",
    "\n",
    "import numpy as np\n",
    "import pandas as pd\n",
    "from matplotlib import pyplot as plt\n",
    "\n",
    "from functions import *\n",
    "from XTconstants import *"
   ]
  },
  {
   "cell_type": "code",
   "execution_count": 120,
   "metadata": {},
   "outputs": [],
   "source": [
    "def signals_gen(signals_amount=100, n_samples=4, sampling_period=25):\n",
    "    \"\"\"\n",
    "    Function to generate samples from signal contaminated by crosstalk.\n",
    "\n",
    "    Parameters\n",
    "    ----------\n",
    "    ``signals_amount``: Amount of signals to be generated (default is 100).\n",
    "    ``n_samples``: Amount of samples per signal to be generated (default is 4).\n",
    "    ``sampling_period``: Time distance between samples (default is 25ns).\n",
    "\n",
    "    Returns\n",
    "    -------\n",
    "    Dataframe containing signal shaping parameters and samples of approximated function according to given parameters.\n",
    "\n",
    "    \"\"\"\n",
    "    \n",
    "    Etrue_amp = np.abs(np.random.normal(loc=55000, scale=10000, size=signals_amount))\n",
    "    Xt_amp = np.abs(np.random.normal(loc=4000, scale=1000, size=signals_amount))\n",
    "    capacitance_clean_rand = np.random.normal(loc=50.0, scale=1.75, size=signals_amount)\n",
    "    capacitance_xt_rand = np.random.normal(loc=47.0, scale=1.75, size=signals_amount)\n",
    "    random_xt_delay = np.abs(np.random.normal(loc=10, scale=10, size=signals_amount))\n",
    "    random_sampling_delay = np.abs(np.random.normal(loc=4, scale=4, size=signals_amount))\n",
    "    data = np.stack([Etrue_amp, Xt_amp, capacitance_clean_rand, capacitance_xt_rand, random_xt_delay, random_sampling_delay], axis=1)\n",
    "    columns = [\"Etrue_amp\", \"Xt_amp\", \"capacitance_clean\", \"capacitance_xt\", \"delay_xt\", \"delay_sampling\"]\n",
    "    signals_df = pd.DataFrame(data, columns=columns)\n",
    "    samples_columns = [f\"S_{i}\" for i in range(1, n_samples+1)]\n",
    "    for i in range(n_samples):\n",
    "        clean_samples = np.array([signals_df[\"Etrue_amp\"][j]*cellFunction(sampling_period*(i+1) + signals_df[\"delay_sampling\"][j],\n",
    "                                                                          signals_df[\"capacitance_clean\"][j]) for j in range(signals_amount)])\n",
    "        xt_samples = np.array([signals_df[\"Xt_amp\"][j]*XTalk(sampling_period*(i+1) + signals_df[\"delay_xt\"][j] + signals_df[\"delay_sampling\"][j],\n",
    "                                                             signals_df[\"capacitance_xt\"][j]) for j in range(signals_amount)])\n",
    "        samples = clean_samples + xt_samples\n",
    "        signals_df[samples_columns[i]] = samples\n",
    "    \n",
    "    return signals_df\n",
    "    "
   ]
  }
 ],
 "metadata": {
  "kernelspec": {
   "display_name": "base",
   "language": "python",
   "name": "python3"
  },
  "language_info": {
   "codemirror_mode": {
    "name": "ipython",
    "version": 3
   },
   "file_extension": ".py",
   "mimetype": "text/x-python",
   "name": "python",
   "nbconvert_exporter": "python",
   "pygments_lexer": "ipython3",
   "version": "3.12.4"
  }
 },
 "nbformat": 4,
 "nbformat_minor": 2
}
