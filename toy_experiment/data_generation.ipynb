{
 "cells": [
  {
   "cell_type": "markdown",
   "metadata": {},
   "source": [
    "# **Otimização - Toy Experiment: Mitigação de Crosstalk**\n",
    "## **Notebook de Geração de Dados**\n",
    "\n",
    "**Disciplina:** PPGEE0016 - Otimização\n",
    "\n",
    "**Alunos:** André Paiva, Josias Souza, Victor Emanuel Paz"
   ]
  },
  {
   "cell_type": "code",
   "execution_count": 10,
   "metadata": {},
   "outputs": [],
   "source": [
    "import sys\n",
    "sys.path.insert(1, \"../crosstalk/\")\n",
    "\n",
    "import numpy as np\n",
    "import pandas as pd\n",
    "from matplotlib import pyplot as plt\n",
    "\n",
    "from functions import *\n",
    "from XTconstants import *"
   ]
  },
  {
   "cell_type": "code",
   "execution_count": 11,
   "metadata": {},
   "outputs": [],
   "source": [
    "def samples_gen(n_samples=4, sampling_period=25, capacitance_clean=50.0, capacitance_xt=47.0):\n",
    "    \"\"\"\n",
    "    Function to generate samples from signal contaminated by crosstalk.\n",
    "\n",
    "    Parameters\n",
    "    ----------\n",
    "    ``n_samples``: Amount of samples to be generated (default is 4).\n",
    "    ``sampling_period``: Time distance between samples (default is 25ns).\n",
    "    ``capacitance_clean``: Parameter that directly influence tau (default is 50uF).\n",
    "    ``capacitance_xt``: Parameter that directly influence tau_x (default is 47uF).\n",
    "\n",
    "    Returns\n",
    "    -------\n",
    "    Array with ```n_samples`` samples of approximated function according to given parameters.\n",
    "\n",
    "    \"\"\"\n",
    "    \n",
    "    E_true_amp = np.abs(np.random.normal(loc=60000, scale=10000))\n",
    "    Xt_amp = np.abs(np.random.normal(loc=6000, scale=1000))\n",
    "    random_sampling_delay = np.abs(np.random.normal(loc=3, scale=4))\n",
    "    random_xt_delay = np.abs(np.random.normal(loc=10, scale=10))\n",
    "    clean_signal = np.array([E_true_amp*cellFunction(sampling_period*i + random_sampling_delay, capacitance_clean) for i in range(1, n_samples+1)])\n",
    "    xt_signal = np.array([Xt_amp*XTalk(sampling_period*i + random_xt_delay + random_sampling_delay, capacitance_xt) for i in range(1, n_samples+1)])\n",
    "    return clean_signal + xt_signal"
   ]
  },
  {
   "cell_type": "code",
   "execution_count": 12,
   "metadata": {},
   "outputs": [],
   "source": [
    "def signals_gen(signals_amount=100, n_samples=4, sampling_period=25):\n",
    "    \"\"\"\n",
    "    Function to generate samples from signal contaminated by crosstalk.\n",
    "\n",
    "    Parameters\n",
    "    ----------\n",
    "    ``signals_amount``: Amount of signals (sampled) to be generated (default is 100).\n",
    "    ``n_samples``: Amount of samples per signal to be generated (default is 4).\n",
    "    ``sampling_period``: Time distance between samples (default is 25ns).\n",
    "\n",
    "    Returns\n",
    "    -------\n",
    "    2D-Array with ```signals_amount`` signals ```n_samples`` samples each.\n",
    "\n",
    "    \"\"\"\n",
    "\n",
    "    capacitance_clean_rand = np.random.normal(loc=50.0, scale=1.75, size=signals_amount)\n",
    "    capacitance_xt_rand = np.random.normal(loc=47.0, scale=1.75, size=signals_amount)\n",
    "    signals = np.array([samples_gen(n_samples=n_samples,\n",
    "                                    sampling_period=sampling_period,\n",
    "                                    capacitance_clean=capacitance_clean_rand[i],\n",
    "                                    capacitance_xt=capacitance_xt_rand[i])\n",
    "                                    for i in range(signals_amount)])\n",
    "    return signals"
   ]
  }
 ],
 "metadata": {
  "kernelspec": {
   "display_name": "Python 3",
   "language": "python",
   "name": "python3"
  },
  "language_info": {
   "codemirror_mode": {
    "name": "ipython",
    "version": 3
   },
   "file_extension": ".py",
   "mimetype": "text/x-python",
   "name": "python",
   "nbconvert_exporter": "python",
   "pygments_lexer": "ipython3",
   "version": "3.12.5"
  }
 },
 "nbformat": 4,
 "nbformat_minor": 2
}
